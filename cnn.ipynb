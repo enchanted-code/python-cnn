{
 "cells": [
  {
   "cell_type": "code",
   "execution_count": null,
   "metadata": {},
   "outputs": [],
   "source": [
    "%pip install tensorflow==2.8.0\n",
    "%pip install liac-arff==2.5.0\n",
    "%pip install pandas==1.4.2\n",
    "%pip install scikit-learn==1.0.2\n",
    "%pip install matplotlib==3.5.1\n",
    "%pip install seaborn==0.11.2"
   ]
  },
  {
   "cell_type": "code",
   "execution_count": 2,
   "metadata": {},
   "outputs": [],
   "source": [
    "import os\n",
    "os.environ['CUDA_VISIBLE_DEVICES'] = '-1'"
   ]
  },
  {
   "cell_type": "markdown",
   "metadata": {},
   "source": [
    "## Imports\n",
    "First we will import required libraries.\n",
    "\n",
    "- liac-arff is used to process arff files\n",
    "- matplotlib & seaborn is used to output result graphs\n",
    "- scikit-learn is used to assist with dataset preparation for machine learning\n",
    "- tensorflow is used to build, train and test models\n",
    "- pandas is used to load csv data into a dataframe for in-memory manipulation"
   ]
  },
  {
   "cell_type": "code",
   "execution_count": null,
   "metadata": {},
   "outputs": [],
   "source": [
    "from pathlib import Path\n",
    "from urllib.request import urlopen\n",
    "\n",
    "import arff\n",
    "import matplotlib.pyplot as plt\n",
    "from sklearn.model_selection import train_test_split\n",
    "from sklearn.metrics import accuracy_score, confusion_matrix\n",
    "import seaborn as sns\n",
    "from tensorflow.keras.models import Sequential\n",
    "from tensorflow.keras.layers import Dense\n",
    "import pandas as pd"
   ]
  },
  {
   "cell_type": "markdown",
   "metadata": {},
   "source": [
    "## Variables\n",
    "Here we will set up some constant variables to be shared with various processes."
   ]
  },
  {
   "cell_type": "code",
   "execution_count": 4,
   "metadata": {},
   "outputs": [],
   "source": [
    "DATA_SET_URL = \"https://www.openml.org/data/download/1592290/phpgNaXZe\"\n",
    "ARFF_FILE_NAME = \"dataset.arff\"\n",
    "CSV_FILE_NAME = \"dataset.csv\"\n",
    "CSV_HEADER = \"sbp,tobacco,ldl,adiposity,famhist,type,obesity,alcohol,age,chd\""
   ]
  },
  {
   "cell_type": "markdown",
   "metadata": {},
   "source": [
    "## Download Dataset\n",
    "First we will need to download the dataset from OpenML. This section of code will download it to write it to disk.\n",
    "\n",
    "When downloading the dataset a few extra white space characters are added so this code removes any by using the `strip()` function.\n",
    "\n",
    "Before downloading a check will be run to skip this if the file already exists."
   ]
  },
  {
   "cell_type": "code",
   "execution_count": 5,
   "metadata": {},
   "outputs": [],
   "source": [
    "if not Path(ARFF_FILE_NAME).exists():\n",
    "    with urlopen(DATA_SET_URL) as response:\n",
    "        content = response.read()\n",
    "        with open(ARFF_FILE_NAME, \"wb\") as fo:\n",
    "            fo.write(content.strip())"
   ]
  },
  {
   "cell_type": "markdown",
   "metadata": {},
   "source": [
    "## Load Dataset\n",
    "\n",
    "The following code will load the arff data into memory using the \"liac-arff\" library. This is required as the data is given as an arff file."
   ]
  },
  {
   "cell_type": "code",
   "execution_count": 6,
   "metadata": {},
   "outputs": [],
   "source": [
    "with open(ARFF_FILE_NAME) as fo:\n",
    "    arff_dataset = arff.load(fo)"
   ]
  },
  {
   "cell_type": "markdown",
   "metadata": {},
   "source": [
    "## Convert To CSV\n",
    "To use this dataset with tensorflow we need to convert it to a csv file. This code create a csv file places a predefined header (which matches the attribute names). Then we access the \"data\" field of the dataset, which is provided as a list which we then join into a string separating each column with a \",\" and ending each row with \"\\n\", which is the newline character. This csv file will then be written to disk.\n",
    "\n",
    "Before processing a new csv file; a check will be run to skip this if the file already exists."
   ]
  },
  {
   "cell_type": "code",
   "execution_count": 8,
   "metadata": {},
   "outputs": [],
   "source": [
    "if not Path(CSV_FILE_NAME).exists():\n",
    "    data = arff_dataset[\"data\"]\n",
    "\n",
    "    with open(CSV_FILE_NAME, \"wt\") as fo:\n",
    "        fo.write(CSV_HEADER + \"\\n\")\n",
    "        for row in data:\n",
    "            fo.write(\",\".join([str(col) for col in row]) + \"\\n\")"
   ]
  },
  {
   "cell_type": "markdown",
   "metadata": {},
   "source": [
    "## Load CSV\n",
    "To load it into tensorflow we need to read the csv data into a pandas data-frame, this allows for the data to be manipulated in memory easily.\n",
    "\n",
    "To load the \"x\" coordinate data, which will be the inputs, we will use pandas `get_dummies()` method, which will convert the data into a format for tensor flow and dropping the output column.\n",
    "\n",
    "Then we will store the output column as \"y\" which has the header name of \"chd\"."
   ]
  },
  {
   "cell_type": "code",
   "execution_count": 9,
   "metadata": {},
   "outputs": [],
   "source": [
    "df = pd.read_csv(CSV_FILE_NAME)\n",
    "\n",
    "x = pd.get_dummies(df.drop(['chd'], axis=1))\n",
    "y = df[\"chd\"]"
   ]
  },
  {
   "cell_type": "markdown",
   "metadata": {},
   "source": [
    "As our data is now loaded, we can use sklearn's `train_test_split()` method, which will allow us to split our data into two section, one for training and the other for testing. I have selected to keep 20% for testing leaving 80% for training."
   ]
  },
  {
   "cell_type": "code",
   "execution_count": 10,
   "metadata": {},
   "outputs": [],
   "source": [
    "x_train, x_test, y_train, y_test = train_test_split(x, y, test_size=.2)"
   ]
  },
  {
   "cell_type": "markdown",
   "metadata": {},
   "source": [
    "This is a sample output of our training data \"x\" rows"
   ]
  },
  {
   "cell_type": "code",
   "execution_count": 11,
   "metadata": {},
   "outputs": [
    {
     "data": {
      "text/html": [
       "<div>\n",
       "<style scoped>\n",
       "    .dataframe tbody tr th:only-of-type {\n",
       "        vertical-align: middle;\n",
       "    }\n",
       "\n",
       "    .dataframe tbody tr th {\n",
       "        vertical-align: top;\n",
       "    }\n",
       "\n",
       "    .dataframe thead th {\n",
       "        text-align: right;\n",
       "    }\n",
       "</style>\n",
       "<table border=\"1\" class=\"dataframe\">\n",
       "  <thead>\n",
       "    <tr style=\"text-align: right;\">\n",
       "      <th></th>\n",
       "      <th>sbp</th>\n",
       "      <th>tobacco</th>\n",
       "      <th>ldl</th>\n",
       "      <th>adiposity</th>\n",
       "      <th>famhist</th>\n",
       "      <th>type</th>\n",
       "      <th>obesity</th>\n",
       "      <th>alcohol</th>\n",
       "      <th>age</th>\n",
       "    </tr>\n",
       "  </thead>\n",
       "  <tbody>\n",
       "    <tr>\n",
       "      <th>282</th>\n",
       "      <td>206.0</td>\n",
       "      <td>0.00</td>\n",
       "      <td>4.17</td>\n",
       "      <td>33.23</td>\n",
       "      <td>2</td>\n",
       "      <td>69.0</td>\n",
       "      <td>27.36</td>\n",
       "      <td>6.17</td>\n",
       "      <td>50.0</td>\n",
       "    </tr>\n",
       "    <tr>\n",
       "      <th>105</th>\n",
       "      <td>158.0</td>\n",
       "      <td>3.60</td>\n",
       "      <td>2.97</td>\n",
       "      <td>30.11</td>\n",
       "      <td>2</td>\n",
       "      <td>63.0</td>\n",
       "      <td>26.64</td>\n",
       "      <td>108.00</td>\n",
       "      <td>64.0</td>\n",
       "    </tr>\n",
       "    <tr>\n",
       "      <th>288</th>\n",
       "      <td>123.0</td>\n",
       "      <td>0.05</td>\n",
       "      <td>4.61</td>\n",
       "      <td>13.69</td>\n",
       "      <td>2</td>\n",
       "      <td>51.0</td>\n",
       "      <td>23.23</td>\n",
       "      <td>2.78</td>\n",
       "      <td>16.0</td>\n",
       "    </tr>\n",
       "    <tr>\n",
       "      <th>327</th>\n",
       "      <td>128.0</td>\n",
       "      <td>0.00</td>\n",
       "      <td>2.98</td>\n",
       "      <td>12.59</td>\n",
       "      <td>2</td>\n",
       "      <td>65.0</td>\n",
       "      <td>20.74</td>\n",
       "      <td>2.06</td>\n",
       "      <td>19.0</td>\n",
       "    </tr>\n",
       "    <tr>\n",
       "      <th>376</th>\n",
       "      <td>114.0</td>\n",
       "      <td>3.60</td>\n",
       "      <td>4.16</td>\n",
       "      <td>22.58</td>\n",
       "      <td>2</td>\n",
       "      <td>60.0</td>\n",
       "      <td>24.49</td>\n",
       "      <td>65.31</td>\n",
       "      <td>31.0</td>\n",
       "    </tr>\n",
       "  </tbody>\n",
       "</table>\n",
       "</div>"
      ],
      "text/plain": [
       "       sbp  tobacco   ldl  adiposity  famhist  type  obesity  alcohol   age\n",
       "282  206.0     0.00  4.17      33.23        2  69.0    27.36     6.17  50.0\n",
       "105  158.0     3.60  2.97      30.11        2  63.0    26.64   108.00  64.0\n",
       "288  123.0     0.05  4.61      13.69        2  51.0    23.23     2.78  16.0\n",
       "327  128.0     0.00  2.98      12.59        2  65.0    20.74     2.06  19.0\n",
       "376  114.0     3.60  4.16      22.58        2  60.0    24.49    65.31  31.0"
      ]
     },
     "execution_count": 11,
     "metadata": {},
     "output_type": "execute_result"
    }
   ],
   "source": [
    "x_train.head()"
   ]
  },
  {
   "cell_type": "markdown",
   "metadata": {},
   "source": [
    "This is a sample output of our training data \"y\" rows."
   ]
  },
  {
   "cell_type": "code",
   "execution_count": 12,
   "metadata": {},
   "outputs": [
    {
     "data": {
      "text/plain": [
       "282    2\n",
       "105    1\n",
       "288    1\n",
       "327    1\n",
       "376    1\n",
       "Name: chd, dtype: int64"
      ]
     },
     "execution_count": 12,
     "metadata": {},
     "output_type": "execute_result"
    }
   ],
   "source": [
    "y_train.head()"
   ]
  },
  {
   "cell_type": "markdown",
   "metadata": {},
   "source": [
    "## Create Model\n",
    "Now our data is loaded and processed, we need to make our CNN models. As our dataset is numerical I am using the `Sequential` model from keras.\n",
    "\n",
    "The first layer of our network will be the input, it will have two nodes as that is the number of classes in our dataset. The number of inputs will match the length of our columns from the dataset.\n",
    "\n",
    "We will use one hidden layer as we don't have much data, setting that to use sixteen nodes.\n",
    "\n",
    "The last layer will be our output, because we want a true/false output the number of nodes has been set to one. It will also use a sigmoid function as we want the true/false output."
   ]
  },
  {
   "cell_type": "code",
   "execution_count": 160,
   "metadata": {},
   "outputs": [],
   "source": [
    "model = Sequential()\n",
    "model.add(Dense(units=2, activation='relu', input_dim=len(x_train.columns)))\n",
    "model.add(Dense(units=16, activation='relu'))\n",
    "model.add(Dense(units=1, activation='sigmoid'))"
   ]
  },
  {
   "cell_type": "markdown",
   "metadata": {},
   "source": [
    "Here we compile the model. It will use `binary_crossentropy` for detecting when accuracy has gone down. We will request that metric data for accuracy to be shown during fitting so we can see the progress of the training."
   ]
  },
  {
   "cell_type": "code",
   "execution_count": 161,
   "metadata": {},
   "outputs": [],
   "source": [
    "model.compile(loss='binary_crossentropy', optimizer='sgd', metrics='accuracy')"
   ]
  },
  {
   "cell_type": "markdown",
   "metadata": {},
   "source": [
    "Here we can see a summary of how our model is constructed."
   ]
  },
  {
   "cell_type": "code",
   "execution_count": 162,
   "metadata": {},
   "outputs": [
    {
     "name": "stdout",
     "output_type": "stream",
     "text": [
      "Model: \"sequential_23\"\n",
      "_________________________________________________________________\n",
      " Layer (type)                Output Shape              Param #   \n",
      "=================================================================\n",
      " dense_44 (Dense)            (None, 2)                 20        \n",
      "                                                                 \n",
      " dense_45 (Dense)            (None, 16)                48        \n",
      "                                                                 \n",
      " dense_46 (Dense)            (None, 1)                 17        \n",
      "                                                                 \n",
      "=================================================================\n",
      "Total params: 85\n",
      "Trainable params: 85\n",
      "Non-trainable params: 0\n",
      "_________________________________________________________________\n"
     ]
    }
   ],
   "source": [
    "model.summary()"
   ]
  },
  {
   "cell_type": "markdown",
   "metadata": {},
   "source": [
    "## Train Model\n",
    "Here we train the model, specifying that we want twenty epochs as we don't have much data to train with. Multiprocessing is also specified which will allow full utilisation of all CPU cores."
   ]
  },
  {
   "cell_type": "code",
   "execution_count": 163,
   "metadata": {},
   "outputs": [
    {
     "name": "stdout",
     "output_type": "stream",
     "text": [
      "Epoch 1/20\n",
      "12/12 [==============================] - 0s 488us/step - loss: nan - accuracy: 0.5637 \n",
      "Epoch 2/20\n",
      "12/12 [==============================] - 0s 461us/step - loss: nan - accuracy: 0.0000e+00\n",
      "Epoch 3/20\n",
      "12/12 [==============================] - 0s 426us/step - loss: nan - accuracy: 0.0000e+00\n",
      "Epoch 4/20\n",
      "12/12 [==============================] - 0s 465us/step - loss: nan - accuracy: 0.0000e+00\n",
      "Epoch 5/20\n",
      "12/12 [==============================] - 0s 486us/step - loss: nan - accuracy: 0.0000e+00\n",
      "Epoch 6/20\n",
      "12/12 [==============================] - 0s 439us/step - loss: nan - accuracy: 0.0000e+00\n",
      "Epoch 7/20\n",
      "12/12 [==============================] - 0s 478us/step - loss: nan - accuracy: 0.0000e+00\n",
      "Epoch 8/20\n",
      "12/12 [==============================] - 0s 492us/step - loss: nan - accuracy: 0.0000e+00\n",
      "Epoch 9/20\n",
      "12/12 [==============================] - 0s 433us/step - loss: nan - accuracy: 0.0000e+00\n",
      "Epoch 10/20\n",
      "12/12 [==============================] - 0s 458us/step - loss: nan - accuracy: 0.0000e+00\n",
      "Epoch 11/20\n",
      "12/12 [==============================] - 0s 425us/step - loss: nan - accuracy: 0.0000e+00\n",
      "Epoch 12/20\n",
      "12/12 [==============================] - 0s 479us/step - loss: nan - accuracy: 0.0000e+00\n",
      "Epoch 13/20\n",
      "12/12 [==============================] - 0s 496us/step - loss: nan - accuracy: 0.0000e+00\n",
      "Epoch 14/20\n",
      "12/12 [==============================] - 0s 436us/step - loss: nan - accuracy: 0.0000e+00\n",
      "Epoch 15/20\n",
      "12/12 [==============================] - 0s 434us/step - loss: nan - accuracy: 0.0000e+00\n",
      "Epoch 16/20\n",
      "12/12 [==============================] - 0s 446us/step - loss: nan - accuracy: 0.0000e+00\n",
      "Epoch 17/20\n",
      "12/12 [==============================] - 0s 438us/step - loss: nan - accuracy: 0.0000e+00\n",
      "Epoch 18/20\n",
      "12/12 [==============================] - 0s 443us/step - loss: nan - accuracy: 0.0000e+00\n",
      "Epoch 19/20\n",
      "12/12 [==============================] - 0s 467us/step - loss: nan - accuracy: 0.0000e+00\n",
      "Epoch 20/20\n",
      "12/12 [==============================] - 0s 439us/step - loss: nan - accuracy: 0.0000e+00\n"
     ]
    },
    {
     "data": {
      "text/plain": [
       "<keras.callbacks.History at 0x7f62f763f400>"
      ]
     },
     "execution_count": 163,
     "metadata": {},
     "output_type": "execute_result"
    }
   ],
   "source": [
    "model.fit(x_train, y_train, epochs=20, batch_size=32, use_multiprocessing=True)"
   ]
  },
  {
   "cell_type": "markdown",
   "metadata": {},
   "source": [
    "## Test Model\n",
    "Now the model has been trained we can test it using our test data. We will use the `predict()` method to pass in our test data and get out a predication. We will then convert the accuracy values to true/false."
   ]
  },
  {
   "cell_type": "code",
   "execution_count": 171,
   "metadata": {},
   "outputs": [],
   "source": [
    "y_predication = model.predict(x_test)\n",
    "y_predication = [0 if val < 0.5 else 1 for val in y_predication]"
   ]
  },
  {
   "cell_type": "markdown",
   "metadata": {},
   "source": [
    "## Calculate Accuracy"
   ]
  },
  {
   "cell_type": "code",
   "execution_count": 172,
   "metadata": {},
   "outputs": [
    {
     "name": "stdout",
     "output_type": "stream",
     "text": [
      "66.6667 % Accurate\n"
     ]
    }
   ],
   "source": [
    "accuracy = accuracy_score(y_test, y_predication)\n",
    "\n",
    "print(round(accuracy * 100, 4), \"% Accurate\")"
   ]
  },
  {
   "cell_type": "code",
   "execution_count": 173,
   "metadata": {},
   "outputs": [
    {
     "data": {
      "image/png": "[encoded data removed]",
      "text/plain": [
       "<Figure size 432x288 with 2 Axes>"
      ]
     },
     "metadata": {
      "needs_background": "light"
     },
     "output_type": "display_data"
    }
   ],
   "source": [
    "confusion = confusion_matrix(y_test, y_predication)\n",
    "\n",
    "ax = sns.heatmap(confusion, annot=True, cmap='Blues')\n",
    "ax.set_title(\"Confusion Matrix\")\n",
    "ax.set_xlabel('\\nPredicted Values')\n",
    "ax.set_ylabel('Actual Values ');\n",
    "ax.xaxis.set_ticklabels(['False','True'])\n",
    "ax.yaxis.set_ticklabels(['False','True'])\n",
    "plt.show()"
   ]
  }
 ],
 "metadata": {
  "interpreter": {
   "hash": "85d0591f7722192431602c588f28923d555d94d033b5eac611b7a2ed79e64804"
  },
  "kernelspec": {
   "display_name": "Python 3.10.4 ('.venv': venv)",
   "language": "python",
   "name": "python3"
  },
  "language_info": {
   "codemirror_mode": {
    "name": "ipython",
    "version": 3
   },
   "file_extension": ".py",
   "mimetype": "text/x-python",
   "name": "python",
   "nbconvert_exporter": "python",
   "pygments_lexer": "ipython3",
   "version": "3.10.4"
  },
  "orig_nbformat": 4
 },
 "nbformat": 4,
 "nbformat_minor": 2
}
