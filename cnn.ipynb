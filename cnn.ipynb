{
 "cells": [
  {
   "cell_type": "markdown",
   "metadata": {},
   "source": [
    "# Introduction"
   ]
  },
  {
   "cell_type": "markdown",
   "metadata": {},
   "source": [
    "Cardiovascular Disease (CVD) is the \"number one cause of death worldwide\", having \"almost 17.9 million deaths occurring\" per year. CVD in many cases if treatment is given early the risk factor is greatly reduced. CVD also has many causing factors and therefore to make a accurate study huge amount of data needs to be collected (Princy, R.J.P. et al) (Ali, M.M. et al).\n",
    "\n",
    "It is a perfect opportunity for machine learning, which becomes more accurate with more data. I have chosen to illustrate a convulsion neural network (CNN) by using a reduced heart disease dataset from \"Rousseauw et al, 1983, South African Medical Journal\"."
   ]
  },
  {
   "cell_type": "markdown",
   "metadata": {},
   "source": [
    "# Method"
   ]
  },
  {
   "cell_type": "markdown",
   "metadata": {},
   "source": [
    "## Install Libraries"
   ]
  },
  {
   "cell_type": "code",
   "execution_count": null,
   "metadata": {},
   "outputs": [],
   "source": [
    "%pip install tensorflow==2.8.0\n",
    "%pip install liac-arff==2.5.0\n",
    "%pip install pandas==1.4.2\n",
    "%pip install scikit-learn==1.0.2\n",
    "%pip install matplotlib==3.5.1\n",
    "%pip install seaborn==0.11.2"
   ]
  },
  {
   "cell_type": "markdown",
   "metadata": {},
   "source": [
    "## Imports\n",
    "First we will import required libraries.\n",
    "\n",
    "- liac-arff is used to process arff files\n",
    "- matplotlib & seaborn is used to output result graphs\n",
    "- scikit-learn is used to assist with dataset preparation for machine learning\n",
    "- tensorflow is used to build, train and test models\n",
    "- pandas is used to load csv data into a dataframe for in-memory manipulation"
   ]
  },
  {
   "cell_type": "code",
   "execution_count": 4,
   "metadata": {},
   "outputs": [],
   "source": [
    "from pathlib import Path\n",
    "from urllib.request import urlopen\n",
    "\n",
    "import arff\n",
    "import matplotlib.pyplot as plt\n",
    "from sklearn.model_selection import train_test_split\n",
    "from sklearn.metrics import accuracy_score, confusion_matrix\n",
    "import seaborn as sns\n",
    "from tensorflow.keras.models import Sequential\n",
    "from tensorflow.keras.layers import Dense\n",
    "import pandas as pd"
   ]
  },
  {
   "cell_type": "markdown",
   "metadata": {},
   "source": [
    "## Variables\n",
    "Here we will set up some constant variables to be shared with various processes."
   ]
  },
  {
   "cell_type": "code",
   "execution_count": 5,
   "metadata": {},
   "outputs": [],
   "source": [
    "DATA_SET_URL = \"https://www.openml.org/data/download/1592290/phpgNaXZe\"\n",
    "ARFF_FILE_NAME = \"dataset.arff\"\n",
    "CSV_FILE_NAME = \"dataset.csv\"\n",
    "CSV_HEADER = \"sbp,tobacco,ldl,adiposity,famhist,type,obesity,alcohol,age,chd\""
   ]
  },
  {
   "cell_type": "markdown",
   "metadata": {},
   "source": [
    "## Download Dataset\n",
    "First we will need to download the dataset from OpenML. This section of code will download it to write it to disk.\n",
    "\n",
    "When downloading the dataset a few extra white space characters are added so this code removes any by using the `strip()` function.\n",
    "\n",
    "Before downloading a check will be run to skip this if the file already exists."
   ]
  },
  {
   "cell_type": "code",
   "execution_count": 6,
   "metadata": {},
   "outputs": [],
   "source": [
    "if not Path(ARFF_FILE_NAME).exists():\n",
    "    with urlopen(DATA_SET_URL) as response:\n",
    "        content = response.read()\n",
    "        with open(ARFF_FILE_NAME, \"wb\") as fo:\n",
    "            fo.write(content.strip())"
   ]
  },
  {
   "cell_type": "markdown",
   "metadata": {},
   "source": [
    "## Load Dataset\n",
    "\n",
    "The following code will load the arff data into memory using the \"liac-arff\" library. This is required as the data is given as an arff file."
   ]
  },
  {
   "cell_type": "code",
   "execution_count": 7,
   "metadata": {},
   "outputs": [],
   "source": [
    "with open(ARFF_FILE_NAME) as fo:\n",
    "    arff_dataset = arff.load(fo)"
   ]
  },
  {
   "cell_type": "markdown",
   "metadata": {},
   "source": [
    "## Convert To CSV\n",
    "To use this dataset with tensorflow we need to convert it to a csv file. This code creates a csv file places a predefined header (which matches the attribute names). Then we access the \"data\" field of the dataset, which is provided as a list which we then join into a string separating each column with a \",\" and ending each row with \"\\n\", which is the newline character. This csv file will then be written to disk.\n",
    "\n",
    "Before processing a new csv file; a check will be run to skip this if the file already exists."
   ]
  },
  {
   "cell_type": "code",
   "execution_count": 8,
   "metadata": {},
   "outputs": [],
   "source": [
    "if not Path(CSV_FILE_NAME).exists():\n",
    "    data = arff_dataset[\"data\"]\n",
    "\n",
    "    with open(CSV_FILE_NAME, \"wt\") as fo:\n",
    "        fo.write(CSV_HEADER + \"\\n\")\n",
    "        for row in data:\n",
    "            fo.write(\",\".join([str(col) for col in row]) + \"\\n\")"
   ]
  },
  {
   "cell_type": "markdown",
   "metadata": {},
   "source": [
    "## Load CSV\n",
    "To load it into tensorflow we need to read the csv data into a pandas data-frame, this allows for the data to be manipulated in memory easily.\n",
    "\n",
    "To load the \"x\" coordinate data, which will be the inputs, we will use pandas `get_dummies()` method, which will convert the data into a format for tensor flow and dropping the output column.\n",
    "\n",
    "Then we will store the output column as \"y\" which has the header name of \"chd\"."
   ]
  },
  {
   "cell_type": "code",
   "execution_count": 9,
   "metadata": {},
   "outputs": [],
   "source": [
    "df = pd.read_csv(CSV_FILE_NAME)\n",
    "\n",
    "x = pd.get_dummies(df.drop(['chd'], axis=1))\n",
    "y = df[\"chd\"]"
   ]
  },
  {
   "cell_type": "markdown",
   "metadata": {},
   "source": [
    "As our data is now loaded, we can use sklearn's `train_test_split()` method, which will allow us to split our data into two section, one for training and the other for testing. I have selected to keep 20% for testing leaving 80% for training."
   ]
  },
  {
   "cell_type": "code",
   "execution_count": 10,
   "metadata": {},
   "outputs": [],
   "source": [
    "x_train, x_test, y_train, y_test = train_test_split(x, y, test_size=.2)"
   ]
  },
  {
   "cell_type": "markdown",
   "metadata": {},
   "source": [
    "This is a sample output of our training data \"x\" rows"
   ]
  },
  {
   "cell_type": "code",
   "execution_count": 11,
   "metadata": {},
   "outputs": [
    {
     "data": {
      "text/html": [
       "<div>\n",
       "<style scoped>\n",
       "    .dataframe tbody tr th:only-of-type {\n",
       "        vertical-align: middle;\n",
       "    }\n",
       "\n",
       "    .dataframe tbody tr th {\n",
       "        vertical-align: top;\n",
       "    }\n",
       "\n",
       "    .dataframe thead th {\n",
       "        text-align: right;\n",
       "    }\n",
       "</style>\n",
       "<table border=\"1\" class=\"dataframe\">\n",
       "  <thead>\n",
       "    <tr style=\"text-align: right;\">\n",
       "      <th></th>\n",
       "      <th>sbp</th>\n",
       "      <th>tobacco</th>\n",
       "      <th>ldl</th>\n",
       "      <th>adiposity</th>\n",
       "      <th>famhist</th>\n",
       "      <th>type</th>\n",
       "      <th>obesity</th>\n",
       "      <th>alcohol</th>\n",
       "      <th>age</th>\n",
       "    </tr>\n",
       "  </thead>\n",
       "  <tbody>\n",
       "    <tr>\n",
       "      <th>258</th>\n",
       "      <td>138.0</td>\n",
       "      <td>12.00</td>\n",
       "      <td>5.13</td>\n",
       "      <td>28.34</td>\n",
       "      <td>2</td>\n",
       "      <td>59.0</td>\n",
       "      <td>24.49</td>\n",
       "      <td>32.81</td>\n",
       "      <td>58.0</td>\n",
       "    </tr>\n",
       "    <tr>\n",
       "      <th>242</th>\n",
       "      <td>190.0</td>\n",
       "      <td>4.18</td>\n",
       "      <td>5.05</td>\n",
       "      <td>24.83</td>\n",
       "      <td>2</td>\n",
       "      <td>45.0</td>\n",
       "      <td>26.09</td>\n",
       "      <td>82.85</td>\n",
       "      <td>41.0</td>\n",
       "    </tr>\n",
       "    <tr>\n",
       "      <th>406</th>\n",
       "      <td>180.0</td>\n",
       "      <td>25.01</td>\n",
       "      <td>3.70</td>\n",
       "      <td>38.11</td>\n",
       "      <td>1</td>\n",
       "      <td>57.0</td>\n",
       "      <td>30.54</td>\n",
       "      <td>0.00</td>\n",
       "      <td>61.0</td>\n",
       "    </tr>\n",
       "    <tr>\n",
       "      <th>121</th>\n",
       "      <td>120.0</td>\n",
       "      <td>1.40</td>\n",
       "      <td>6.25</td>\n",
       "      <td>20.47</td>\n",
       "      <td>2</td>\n",
       "      <td>60.0</td>\n",
       "      <td>25.85</td>\n",
       "      <td>8.51</td>\n",
       "      <td>28.0</td>\n",
       "    </tr>\n",
       "    <tr>\n",
       "      <th>128</th>\n",
       "      <td>134.0</td>\n",
       "      <td>8.80</td>\n",
       "      <td>7.41</td>\n",
       "      <td>26.84</td>\n",
       "      <td>2</td>\n",
       "      <td>35.0</td>\n",
       "      <td>29.44</td>\n",
       "      <td>29.52</td>\n",
       "      <td>60.0</td>\n",
       "    </tr>\n",
       "  </tbody>\n",
       "</table>\n",
       "</div>"
      ],
      "text/plain": [
       "       sbp  tobacco   ldl  adiposity  famhist  type  obesity  alcohol   age\n",
       "258  138.0    12.00  5.13      28.34        2  59.0    24.49    32.81  58.0\n",
       "242  190.0     4.18  5.05      24.83        2  45.0    26.09    82.85  41.0\n",
       "406  180.0    25.01  3.70      38.11        1  57.0    30.54     0.00  61.0\n",
       "121  120.0     1.40  6.25      20.47        2  60.0    25.85     8.51  28.0\n",
       "128  134.0     8.80  7.41      26.84        2  35.0    29.44    29.52  60.0"
      ]
     },
     "execution_count": 11,
     "metadata": {},
     "output_type": "execute_result"
    }
   ],
   "source": [
    "x_train.head()"
   ]
  },
  {
   "cell_type": "markdown",
   "metadata": {},
   "source": [
    "This is a sample output of our training data \"y\" rows."
   ]
  },
  {
   "cell_type": "code",
   "execution_count": 12,
   "metadata": {},
   "outputs": [
    {
     "data": {
      "text/plain": [
       "258    2\n",
       "242    1\n",
       "406    2\n",
       "121    1\n",
       "128    2\n",
       "Name: chd, dtype: int64"
      ]
     },
     "execution_count": 12,
     "metadata": {},
     "output_type": "execute_result"
    }
   ],
   "source": [
    "y_train.head()"
   ]
  },
  {
   "cell_type": "markdown",
   "metadata": {},
   "source": [
    "## Create Model\n",
    "Now our data is loaded and processed, we need to make our CNN models. As our dataset is numerical I am using the `Sequential` model from Keras.\n",
    "\n",
    "The first layer of our network will be the input, it will have two nodes as that is the number of classes in our dataset. The number of inputs will match the length of our columns from the dataset.\n",
    "\n",
    "We will use one hidden layer as we are working with linear relationships. We will also set the number of nodes to sixteen.\n",
    "\n",
    "The last layer will be our output, because we want a true/false output the number of nodes has been set to one. It will also use a sigmoid function as we want a predication value of whether it is likely true or false."
   ]
  },
  {
   "cell_type": "code",
   "execution_count": 41,
   "metadata": {},
   "outputs": [],
   "source": [
    "model = Sequential()\n",
    "model.add(Dense(units=2, activation='relu', input_dim=len(x_train.columns)))\n",
    "model.add(Dense(units=16, activation='relu'))\n",
    "model.add(Dense(units=1, activation='sigmoid'))"
   ]
  },
  {
   "cell_type": "markdown",
   "metadata": {},
   "source": [
    "Here we compile the model. We will calculate loss using `binary_crossentropy`. We have chosen to use Binary Cross Entropy as it calculates the loss between predicted true and false labels. As our output layer of our model is either true/false it is well suited.\n",
    "\n",
    "We will use `sgd` for the optimizer, which will allow the changing of weights and learning rates to reduce losses. I have chosen to use the stochastic gradient descent optimizer as it requires less memory and converges in less time due to frequent updates to model parameters.\n",
    "\n",
    "We will also request that metric data for accuracy to be shown during fitting so we can see the progress of the training."
   ]
  },
  {
   "cell_type": "code",
   "execution_count": 42,
   "metadata": {},
   "outputs": [],
   "source": [
    "model.compile(loss='binary_crossentropy', optimizer='sgd', metrics='accuracy')"
   ]
  },
  {
   "cell_type": "markdown",
   "metadata": {},
   "source": [
    "Here we can see a summary of how our model is constructed."
   ]
  },
  {
   "cell_type": "code",
   "execution_count": 43,
   "metadata": {},
   "outputs": [
    {
     "name": "stdout",
     "output_type": "stream",
     "text": [
      "Model: \"sequential_4\"\n",
      "_________________________________________________________________\n",
      " Layer (type)                Output Shape              Param #   \n",
      "=================================================================\n",
      " dense_9 (Dense)             (None, 2)                 20        \n",
      "                                                                 \n",
      " dense_10 (Dense)            (None, 16)                48        \n",
      "                                                                 \n",
      " dense_11 (Dense)            (None, 1)                 17        \n",
      "                                                                 \n",
      "=================================================================\n",
      "Total params: 85\n",
      "Trainable params: 85\n",
      "Non-trainable params: 0\n",
      "_________________________________________________________________\n"
     ]
    }
   ],
   "source": [
    "model.summary()"
   ]
  },
  {
   "cell_type": "markdown",
   "metadata": {},
   "source": [
    "## Train Model\n",
    "Here we train the model, specifying that we want 4 epochs as we don't have much data to train with and we don't want to over-fit our model.\n",
    "\n",
    "Multiprocessing is also specified which will allow full utilisation of all CPU cores."
   ]
  },
  {
   "cell_type": "code",
   "execution_count": 52,
   "metadata": {},
   "outputs": [
    {
     "name": "stdout",
     "output_type": "stream",
     "text": [
      "Epoch 1/4\n",
      "12/12 [==============================] - 0s 680us/step - loss: nan - accuracy: 0.0000e+00\n",
      "Epoch 2/4\n",
      "12/12 [==============================] - 0s 705us/step - loss: nan - accuracy: 0.0000e+00\n",
      "Epoch 3/4\n",
      "12/12 [==============================] - 0s 684us/step - loss: nan - accuracy: 0.0000e+00\n",
      "Epoch 4/4\n",
      "12/12 [==============================] - 0s 790us/step - loss: nan - accuracy: 0.0000e+00\n"
     ]
    },
    {
     "data": {
      "text/plain": [
       "<keras.callbacks.History at 0x7f904c7b0430>"
      ]
     },
     "execution_count": 52,
     "metadata": {},
     "output_type": "execute_result"
    }
   ],
   "source": [
    "model.fit(x_train, y_train, epochs=4, use_multiprocessing=True)"
   ]
  },
  {
   "cell_type": "markdown",
   "metadata": {},
   "source": [
    "## Test Model\n",
    "Now the model has been trained we can test it using our test data. We will use the `predict()` method to pass in our test data and get out a predication. We will then convert the accuracy values to true/false."
   ]
  },
  {
   "cell_type": "code",
   "execution_count": 53,
   "metadata": {},
   "outputs": [],
   "source": [
    "y_predication = model.predict(x_test)\n",
    "y_predication = [0 if val < 0.5 else 1 for val in y_predication]"
   ]
  },
  {
   "cell_type": "markdown",
   "metadata": {},
   "source": [
    "## Calculate Accuracy"
   ]
  },
  {
   "cell_type": "code",
   "execution_count": 54,
   "metadata": {},
   "outputs": [
    {
     "name": "stdout",
     "output_type": "stream",
     "text": [
      "63.4409 % Accurate\n"
     ]
    }
   ],
   "source": [
    "accuracy = accuracy_score(y_test, y_predication)\n",
    "\n",
    "print(round(accuracy * 100, 4), \"% Accurate\")"
   ]
  },
  {
   "cell_type": "code",
   "execution_count": 55,
   "metadata": {},
   "outputs": [
    {
     "data": {
      "image/png": "[encoded data removed]",
      "text/plain": [
       "<Figure size 432x288 with 2 Axes>"
      ]
     },
     "metadata": {
      "needs_background": "light"
     },
     "output_type": "display_data"
    }
   ],
   "source": [
    "confusion = confusion_matrix(y_test, y_predication)\n",
    "\n",
    "ax = sns.heatmap(confusion, annot=True, cmap='Blues')\n",
    "ax.set_title(\"Confusion Matrix\")\n",
    "ax.set_xlabel('\\nPredicted Values')\n",
    "ax.set_ylabel('Actual Values ');\n",
    "ax.xaxis.set_ticklabels(['False','True'])\n",
    "ax.yaxis.set_ticklabels(['False','True'])\n",
    "plt.show()"
   ]
  },
  {
   "cell_type": "markdown",
   "metadata": {},
   "source": [
    "# Conclusion"
   ]
  },
  {
   "cell_type": "markdown",
   "metadata": {},
   "source": [
    "In conclusion we can see that our model is ~60% accurate, while this is quite low we don't have much data only around 400 rows. As we have used a reduced dataset, accuracy could be improved by simply increasing the amount of rows of data which we could get in the same format from the original (unreduced) dataset. We chose to use the reduced dataset as a large amount of data would take longer to train and for testing purposes a smaller amount makes it easier for experimenting with different hidden layer configurations. We could also change to use a different dataset which could include more attributes allowing a more realistic predication. For example other studies such as Beunza, J.J. et al used the \"Framingham Heart Study\" which had \"4000+\" observations and got an accuracy value of ~85% on some configurations. Sharma, V. et al who used the Cleveland dataset and used 14 attributes and 1025 instances got similar results depending on the configuration and algorithm used.\n",
    "\n",
    "There are many machine learning methods that can be used that may be better for accuracy other than a Artificial Neural Network. For example Decision Tree (DT) matches groups of data into a tree structure, Random Forest (RF) also creates a tree like structure. K-Nearest Neighbour (KNN) makes predictions based on neighbours. Lots of experiments by different people have been carried out to find out which one is most accurate. Ali's experiments found that they all produced higher than 80%. However, most of these algorithms (DT, RF) performed badly without a large dataset, apart from KNN which performed better with small amounts of data (Princy, R.J.P. et al) (Ali, M.M. et al).\n",
    "\n",
    "When using machine learning with medical data, there are many ethical and legal considerations. One of these is racial & gender injustice which is when datasets are biased to a certain race/group or gender which causing inaccurate predications, this could be prevented by ensuring that captured data is diverse to include everyone to prevent any bias. A legal issue is the collecting of personal medical data and using it for processing, this can be easily be prevented by ensuring everyone signs that they are willing to give their information away (Chen, I.Y. et al)."
   ]
  },
  {
   "cell_type": "markdown",
   "metadata": {},
   "source": [
    "# References\n",
    "- Princy, R.J.P., Parthasarathy, S., Jose, P.S.H., Lakshminarayanan, A.R. and Jeganathan, S., 2020, May. Prediction of cardiac disease using supervised machine learning algorithms. In 2020 4th International Conference on Intelligent Computing and Control Systems (ICICCS) (pp. 570-575). IEEE.\n",
    "- Ali, M.M., Paul, B.K., Ahmed, K., Bui, F.M., Quinn, J.M. and Moni, M.A., 2021. Heart disease prediction using supervised machine learning algorithms: performance analysis and comparison. Computers in Biology and Medicine, 136, p.104672.\n",
    "- Beunza, J.J., Puertas, E., García-Ovejero, E., Villalba, G., Condes, E., Koleva, G., Hurtado, C. and Landecho, M.F., 2019. Comparison of machine learning algorithms for clinical event prediction (risk of coronary heart disease). Journal of biomedical informatics, 97, p.103257.\n",
    "- Sharma, V., Yadav, S. and Gupta, M., 2020, December. Heart disease prediction using machine learning techniques. In 2020 2nd International Conference on Advances in Computing, Communication Control and Networking (ICACCCN) (pp. 177-181). IEEE.\n",
    "- Chen, I.Y., Pierson, E., Rose, S., Joshi, S., Ferryman, K. and Ghassemi, M., 2021. Ethical machine learning in healthcare. Annual Review of Biomedical Data Science, 4, pp.123-144."
   ]
  },
  {
   "cell_type": "markdown",
   "metadata": {},
   "source": [
    "# Appendices\n",
    "## Source Code\n",
    "- <https://github.com/enchanted-code/python-cnn>\n"
   ]
  }
 ],
 "metadata": {
  "interpreter": {
   "hash": "85d0591f7722192431602c588f28923d555d94d033b5eac611b7a2ed79e64804"
  },
  "kernelspec": {
   "display_name": "Python 3 (ipykernel)",
   "language": "python",
   "name": "python3"
  },
  "language_info": {
   "codemirror_mode": {
    "name": "ipython",
    "version": 3
   },
   "file_extension": ".py",
   "mimetype": "text/x-python",
   "name": "python",
   "nbconvert_exporter": "python",
   "pygments_lexer": "ipython3",
   "version": "3.10.4"
  }
 },
 "nbformat": 4,
 "nbformat_minor": 4
}
